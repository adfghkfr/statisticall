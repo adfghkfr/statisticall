{
 "cells": [
  {
   "cell_type": "markdown",
   "metadata": {},
   "source": [
    "注意事項:\n",
    "1.用老師的資料做描述\n",
    "2. 自己生成資料來比較(講義p.15)\n",
    "自己設計這兩群的關係:兩個都離得很近-非常靠近-橢圓形的散步點-像香蕉的散步圖-在圖上標示不同線的準確率\n"
   ]
  }
 ],
 "metadata": {
  "kernelspec": {
   "display_name": "Python 3.10.2 64-bit",
   "language": "python",
   "name": "python3"
  },
  "language_info": {
   "name": "python",
   "version": "3.10.2 (tags/v3.10.2:a58ebcc, Jan 17 2022, 14:12:15) [MSC v.1929 64 bit (AMD64)]"
  },
  "orig_nbformat": 4,
  "vscode": {
   "interpreter": {
    "hash": "5263c48ddfa36758767175d305ff19ced56d7c7302d90e4a7dee52d9491ebdf7"
   }
  }
 },
 "nbformat": 4,
 "nbformat_minor": 2
}
