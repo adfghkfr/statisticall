{
 "cells": [
  {
   "cell_type": "code",
   "execution_count": null,
   "metadata": {},
   "outputs": [],
   "source": [
    "import numpy as np\n",
    " \n",
    "x = np.array([6, 3, 5, 8, 7])\n",
    "y = np.array([2, 4, 3, 7, 6])\n",
    " \n",
    "sum_x_formula = x[0] + x[1] + x[2] + x[3] + x[4]\n",
    "sum_x = x.sum() # numpy data's method\n",
    " \n",
    "n = len(x) # sample size\n",
    "x_bar_formula = sum_x / n \n",
    "x_bar = x.mean()\n",
    " \n",
    "var_x_formula_1 = ((x - x_bar)**2).sum() / (n-1) # element by element operation\n",
    "var_x_formula_2 = np.sum((x - x_bar)**2) / (n-1)\n",
    "var_x = x.var( ddof = 1) # ddof = 1: divided by N-1\n",
    " \n",
    "std_x_formula = np.sqrt(var_x)\n",
    "std_x = x.std( ddof = 1)\n",
    " \n",
    "y_bar = y.mean()\n",
    "std_y = y.std( ddof = 1)\n",
    " \n",
    "print('The sample mean of x is {:.4f}'.format(x_bar))\n",
    "print('The sample variation of x is {}'.format(var_x))\n",
    "print('The sample standard deviation of x is %.6f' %std_x)\n"
   ]
  },
  {
   "cell_type": "code",
   "execution_count": null,
   "metadata": {},
   "outputs": [],
   "source": [
    "import numpy as np\n",
    "from scipy.stats import zscore\n",
    " \n",
    "x = np.array([6, 3, 5, 8, 7])\n",
    "z = zscore(x, ddof = 1)\n",
    "z_formula = .... do it yourself\n",
    " \n",
    "# To compare two vectors\n",
    "print(np.c_[z, z_formula]) # concatenate vertically\n"
   ]
  },
  {
   "cell_type": "code",
   "execution_count": null,
   "metadata": {},
   "outputs": [],
   "source": [
    "import numpy as np\n",
    "from scipy.stats import pearsonr\n",
    " \n",
    "x = np.array([6, 3, 5, 8, 7])\n",
    "y = np.array([2, 4, 3, 7, 6])\n",
    " \n",
    "# coding for r by formula\n",
    "..............\n",
    "r_formula = .....\n",
    "print('Correlation coefficient by formula is {:.4f}'.format(r_formula))\n",
    "# directly use command from scipy.stats\n",
    "r_sci = pearsonr(x, y)[0] # the first return value\n",
    "print('Correlation coefficient by scipy.stats.pearsonr is %.4f' %r_sci)"
   ]
  },
  {
   "cell_type": "code",
   "execution_count": null,
   "metadata": {},
   "outputs": [],
   "source": [
    "import numpy as np\n",
    "import matplotlib.pyplot as plt \n",
    " \n",
    "x = np.array([6, 3, 5, 8, 7])\n",
    "y = np.array([2, 4, 3, 7, 6])\n",
    " \n",
    "size, color = 50, 'g'\n",
    "plt.scatter(x, y, s = size, c = color)\n",
    " \n",
    "# arrange axis range for better look\n",
    "plt.axis([0, 10, 0,10])\n",
    "plt.xlabel('x'), plt.ylabel('y')\n",
    "plt.show()"
   ]
  },
  {
   "cell_type": "code",
   "execution_count": null,
   "metadata": {},
   "outputs": [],
   "source": [
    "import numpy as np\n",
    "import matplotlib.pyplot as plt \n",
    "from scipy.stats import pearsonr\n",
    " \n",
    "data_dir = '../Data/'\n",
    "D = np.loadtxt(data_dir + 'data1.txt', comments='%')\n",
    "x, y = D[:, 0], D[:, 1] \n",
    "r = pearsonr(x, y)[0] \n",
    " \n",
    "plt.scatter(x, y, s = 50, c = 'b', alpha = 0.5)\n",
    " \n",
    "plt.axis([x.min()-1, x.max()+1, y.min()-1, y.max()+1])\n",
    "plt.title('r = %.4f' %r)\n",
    "plt.xlabel('x'), plt.ylabel('y')\n",
    "plt.show()"
   ]
  },
  {
   "cell_type": "code",
   "execution_count": null,
   "metadata": {},
   "outputs": [],
   "source": [
    "from numpy.polynomial import polynomial\n",
    " \n",
    ".... previous codes here\n",
    " \n",
    "coef = polynomial.polyfit(x, y, 1)\n",
    " \n",
    ".... add your codes below \n",
    "...."
   ]
  },
  {
   "cell_type": "code",
   "execution_count": null,
   "metadata": {},
   "outputs": [],
   "source": [
    "import pandas as pd\n",
    "import matplotlib.pyplot as plt\n",
    " \n",
    "file_dir = '../Data/'\n",
    "df = pd.read_excel(file_dir + 'Iris.xlsx', \\\n",
    "     index_col = None, header = 0)\n",
    " \n",
    "print(df) # the contents\n",
    "print(df.info()) # information for columns \n",
    "print(df.describe()) # descriptive stats\n",
    " \n",
    "fig, (ax1, ax2) = plt.subplots(\n",
    "    1, 2, figsize=(8, 3))\n",
    "ax1.scatter(df['Sepal Length'], df['Sepal Width'], \\\n",
    "     s = 150, c = 'r', alpha = 0.5)\n",
    "ax1.set_xlabel(df.columns[0])   \n",
    "ax1.set_ylabel(df.columns[1])  \n",
    "fig.suptitle('The Iris Data') # the super title\n",
    "df.mean().plot.bar(ax = ax2, ylabel = 'Mean Value')\n",
    "plt.show()"
   ]
  },
  {
   "cell_type": "code",
   "execution_count": null,
   "metadata": {},
   "outputs": [],
   "source": [
    "import pandas as pd\n",
    "import matplotlib.pyplot as plt\n",
    "import matplotlib.font_manager as mfm\n",
    " \n",
    "...\n",
    "Read EXCEL file\n",
    "draw the line chart and prepare for the legend\n",
    "set and rotate the xtick\n",
    "...\n",
    " \n",
    "# the following codes will change the font of text shown on the axes\n",
    "font_path = \"C:\\WINDOWS\\FONTS\\MSJHL.TTC\" # 微軟正黑體\n",
    "prop = mfm.FontProperties(fname = font_path)\n",
    "plt.legend(prop = prop)"
   ]
  },
  {
   "cell_type": "code",
   "execution_count": null,
   "metadata": {},
   "outputs": [],
   "source": [
    "import pandas as pd\n",
    "import matplotlib.pyplot as plt\n",
    " \n",
    "penguins_data=\"https://raw.githubusercontent.com/datavizpyr/data/master/palmer_penguin_species.tsv\"\n",
    "# load penguns data with Pandas read_csv\n",
    "df = pd.read_csv(penguins_data, sep=\"\\t\")\n",
    "df = df.dropna() # drop NA data (missing data)\n",
    "print(df.head()) # print out the first few data\n",
    " \n",
    "plt.figure(figsize=(8,6))\n",
    "sp_names = ['Adelie', 'Gentoo', 'Chinstrap']\n",
    "scatter = plt.scatter(df.culmen_length_mm, \\\n",
    "    df.culmen_depth_mm, alpha = 0.5, s = 150, \\\n",
    "        c = df.species.astype('category').cat.codes)\n",
    "plt.xlabel(\"Culmen Length\", size=14)\n",
    "plt.ylabel(\"Culmen Depth\", size=14)\n",
    "# add legend to the plot with names\n",
    "plt.legend(handles = scatter.legend_elements()[0], \n",
    "           labels = sp_names,\n",
    "           title = \"species\")\n",
    "plt.show()"
   ]
  },
  {
   "cell_type": "code",
   "execution_count": null,
   "metadata": {},
   "outputs": [],
   "source": [
    "import numpy as np\n",
    "import pandas as pd\n",
    "import matplotlib.pyplot as plt\n",
    " \n",
    "... codes in previous example ...\n",
    " \n",
    "# compute the means of the three categories\n",
    "for sp in sp_names :\n",
    "    cul_len = df.culmen_length_mm[df.species == sp]\n",
    "    cul_dep = df.culmen_depth_mm[df.species == sp]\n",
    "    plt.text(cul_len.mean(), cul_dep.mean(), 'X', color = 'r')\n",
    "    X = np.stack((cul_len, cul_dep), axis = 0)\n",
    "    cov = np.cov(X)\n",
    "    print('The covariance matrix of {}\\n'.format(sp), cov)\n"
   ]
  }
 ],
 "metadata": {
  "kernelspec": {
   "display_name": "Python 3.10.2 64-bit",
   "language": "python",
   "name": "python3"
  },
  "language_info": {
   "name": "python",
   "version": "3.10.2"
  },
  "orig_nbformat": 4,
  "vscode": {
   "interpreter": {
    "hash": "5263c48ddfa36758767175d305ff19ced56d7c7302d90e4a7dee52d9491ebdf7"
   }
  }
 },
 "nbformat": 4,
 "nbformat_minor": 2
}
